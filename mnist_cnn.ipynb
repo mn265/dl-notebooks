{
  "nbformat": 4,
  "nbformat_minor": 0,
  "metadata": {
    "colab": {
      "name": "mnist_cnn.ipynb",
      "provenance": []
    },
    "kernelspec": {
      "name": "python3",
      "display_name": "Python 3"
    },
    "accelerator": "GPU"
  },
  "cells": [
    {
      "cell_type": "code",
      "metadata": {
        "id": "Ljf-m9bQaTqY"
      },
      "source": [
        "import numpy as np \n",
        "import pandas as pd \n",
        "\n",
        "import torch\n",
        "import torch.nn as nn\n",
        "import torch.nn.functional as F\n",
        "import torch.utils.data\n",
        "from torch.autograd import Variable\n",
        "from torchvision import datasets, transforms\n",
        "from sklearn.model_selection import train_test_split"
      ],
      "execution_count": 3,
      "outputs": []
    },
    {
      "cell_type": "code",
      "metadata": {
        "id": "j4Re5bTTauRE"
      },
      "source": [
        "transform = transforms.Compose([transforms.ToTensor()])\n",
        "\n",
        "# Download and load the training data\n",
        "train_set = datasets.MNIST('DATA_MNIST/', download=True, train=True, transform=transform)\n",
        "trainLoader = torch.utils.data.DataLoader(train_set, batch_size=64, shuffle=True)\n",
        "\n",
        "test_set = datasets.MNIST('DATA_MNIST/', download=True, train=False, transform=transform)\n",
        "testLoader = torch.utils.data.DataLoader(test_set, batch_size=64, shuffle=True)"
      ],
      "execution_count": 11,
      "outputs": []
    },
    {
      "cell_type": "code",
      "metadata": {
        "id": "xDeUZazyfP0b"
      },
      "source": [
        "import torch\n",
        "\n",
        "class Model(torch.nn.Module):\n",
        "    def __init__(self):\n",
        "        super(Model, self).__init__()\n",
        "        self.conv_1 = torch.nn.Conv2d(in_channels=1, out_channels=32, kernel_size=3, stride=1, padding=1)\n",
        "        self.conv_2 = torch.nn.Conv2d(in_channels=32, out_channels=64, kernel_size=3, stride=1, padding=1)\n",
        "        self.max_pool2d = torch.nn.MaxPool2d(kernel_size=2, stride=2)\n",
        "        self.linear_1 = torch.nn.Linear(7 * 7 * 64, 128)\n",
        "        self.linear_2 = torch.nn.Linear(128, 10)\n",
        "        self.dropout = torch.nn.Dropout(p=0.5)\n",
        "        self.relu = torch.nn.ReLU()\n",
        "\n",
        "    def forward(self, x):\n",
        "        x = self.conv_1(x)\n",
        "        x = self.relu(x)\n",
        "        x = self.max_pool2d(x)\n",
        "        x = self.conv_2(x)\n",
        "        x = self.relu(x)\n",
        "        x = self.max_pool2d(x)\n",
        "        x = x.reshape(x.size(0), -1)\n",
        "        x = self.linear_1(x)\n",
        "        x = self.relu(x)\n",
        "        x = self.dropout(x)\n",
        "        pred = self.linear_2(x)\n",
        "\n",
        "        return pred"
      ],
      "execution_count": 12,
      "outputs": []
    },
    {
      "cell_type": "code",
      "metadata": {
        "id": "uGQCGwYDfy4Y"
      },
      "source": [
        "model = Model()\n",
        "criterion = torch.nn.CrossEntropyLoss()\n",
        "optimizer = torch.optim.Adam(model.parameters(), lr=0.001)"
      ],
      "execution_count": 13,
      "outputs": []
    },
    {
      "cell_type": "code",
      "metadata": {
        "id": "cl8lpfJugI_V",
        "outputId": "524844fb-b84c-4cba-b797-b0a0a6022928",
        "colab": {
          "base_uri": "https://localhost:8080/"
        }
      },
      "source": [
        "epochs = 20\n",
        "train_loss, val_loss = [], []\n",
        "accuracy_total_train, accuracy_total_val = [], []\n",
        "\n",
        "for epoch in range(epochs):\n",
        "   \n",
        "    total_train_loss = 0\n",
        "    total_val_loss = 0\n",
        "\n",
        "    model.train()\n",
        "    \n",
        "    total = 0\n",
        "    # training our model\n",
        "    for idx, (image, label) in enumerate(trainLoader):\n",
        "\n",
        "        image, label = image, label\n",
        "\n",
        "        optimizer.zero_grad()\n",
        "\n",
        "        pred = model(image)\n",
        "\n",
        "        loss = criterion(pred, label)\n",
        "        total_train_loss += loss.item()\n",
        "\n",
        "        loss.backward()\n",
        "        optimizer.step()\n",
        "\n",
        "        pred = torch.nn.functional.softmax(pred, dim=1)\n",
        "        for i, p in enumerate(pred):\n",
        "            if label[i] == torch.max(p.data, 0)[1]:\n",
        "                total = total + 1\n",
        "                \n",
        "    accuracy_train = total / len(train_set)\n",
        "    accuracy_total_train.append(accuracy_train)\n",
        "\n",
        "    total_train_loss = total_train_loss / (idx + 1)\n",
        "    train_loss.append(total_train_loss)\n",
        "    \n",
        "    # validating our model\n",
        "    model.eval()\n",
        "    total = 0\n",
        "    for idx, (image, label) in enumerate(testLoader):\n",
        "        image, label = image, label\n",
        "        pred = model(image)\n",
        "        loss = criterion(pred, label)\n",
        "        total_val_loss += loss.item()\n",
        "\n",
        "        pred = torch.nn.functional.softmax(pred, dim=1)\n",
        "        for i, p in enumerate(pred):\n",
        "            if label[i] == torch.max(p.data, 0)[1]:\n",
        "                total = total + 1\n",
        "\n",
        "    accuracy_val = total / len(test_set)\n",
        "    accuracy_total_val.append(accuracy_val)\n",
        "\n",
        "    total_val_loss = total_val_loss / (idx + 1)\n",
        "    val_loss.append(total_val_loss)\n",
        "\n",
        "    if epoch % 5 == 0:\n",
        "      print(\"Epoch: {}/{}  \".format(epoch, epochs),\n",
        "            \"Training loss: {:.4f}  \".format(total_train_loss),\n",
        "            \"Testing loss: {:.4f}  \".format(total_val_loss),\n",
        "            \"Train accuracy: {:.4f}  \".format(accuracy_train),\n",
        "            \"Test accuracy: {:.4f}  \".format(accuracy_val))"
      ],
      "execution_count": 20,
      "outputs": [
        {
          "output_type": "stream",
          "text": [
            "Epoch: 0/20   Training loss: 0.0585   Testing loss: 0.0289   Train accuracy: 0.9822   Test accuracy: 0.9905  \n",
            "Epoch: 5/20   Training loss: 0.0309   Testing loss: 0.0262   Train accuracy: 0.9899   Test accuracy: 0.9913  \n",
            "Epoch: 10/20   Training loss: 0.0209   Testing loss: 0.0243   Train accuracy: 0.9935   Test accuracy: 0.9933  \n",
            "Epoch: 15/20   Training loss: 0.0154   Testing loss: 0.0326   Train accuracy: 0.9949   Test accuracy: 0.9923  \n"
          ],
          "name": "stdout"
        }
      ]
    },
    {
      "cell_type": "code",
      "metadata": {
        "id": "AGD6Z49hiETY"
      },
      "source": [
        ""
      ],
      "execution_count": null,
      "outputs": []
    }
  ]
}